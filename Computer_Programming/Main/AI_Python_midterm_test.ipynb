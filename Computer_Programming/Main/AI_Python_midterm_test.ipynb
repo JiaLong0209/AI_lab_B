{
 "cells": [
  {
   "cell_type": "markdown",
   "id": "02d4b669",
   "metadata": {},
   "source": [
    "### <font color=\"Red\"> 1. (10%) 請使用for迴圈，計算0~10000，11或19的倍數和"
   ]
  },
  {
   "cell_type": "code",
   "execution_count": 1,
   "id": "3c1a6eac",
   "metadata": {},
   "outputs": [
    {
     "name": "stdout",
     "output_type": "stream",
     "text": [
      "從0到10000中，使用for迴圈計算11或19的倍數和為: 6947212\n"
     ]
    }
   ],
   "source": []
  },
  {
   "cell_type": "markdown",
   "id": "131a60b6",
   "metadata": {},
   "source": [
    "### <font color=\"Red\"> 2. (10%) 使用while迴圈，計算0~10000，11但不是19的倍數和"
   ]
  },
  {
   "cell_type": "code",
   "execution_count": 2,
   "id": "537b83ee",
   "metadata": {},
   "outputs": [
    {
     "name": "stdout",
     "output_type": "stream",
     "text": [
      "從0到10000中，使用while迴圈計算11但不是19的倍數和為:: 4313793\n"
     ]
    }
   ],
   "source": []
  },
  {
   "cell_type": "markdown",
   "id": "5a7fd596",
   "metadata": {},
   "source": [
    "### <font color=\"Red\"> 3. (20%) 設計一個計算圓錐體的 calCone，依序輸入半徑r(cm)與高h(cm)，計算傳入值的圓錐體體積(volumn)。(半徑的預設值為10cm，高的預設值為5cm)\n",
    "    \n",
    "$${體積 = \\frac{1}{3} \\pi r^{2} h}$$\n",
    "\n",
    "\n",
    "<font color=\"Red\">1. 沒有使用函數扣 20分        \n",
    "2. 沒有預設值扣 10 分       "
   ]
  },
  {
   "cell_type": "code",
   "execution_count": 3,
   "id": "c217c5ef",
   "metadata": {},
   "outputs": [
    {
     "name": "stdout",
     "output_type": "stream",
     "text": [
      "請輸入圓錐體的半徑(cm):20\n",
      "請輸入圓錐體的高(cm):15\n",
      "圓錐體的半徑20，圓錐體的高15，圓錐體的體積:6283.18\n",
      "圓錐體的體積:6283.18\n"
     ]
    }
   ],
   "source": []
  },
  {
   "cell_type": "markdown",
   "id": "7dda079b",
   "metadata": {},
   "source": [
    "### <font color=\"Red\"> 4. (10%) 串列函數</font>\n",
    "<font color=\"Red\">撰寫函數 MaxMin(a)，計算傳入串列a中所有值的極大值和極小值 <p>\n",
    "例如：a=[3, 1, 8, 6,  5]，將傳回 [8, 1]"
   ]
  },
  {
   "cell_type": "code",
   "execution_count": 4,
   "id": "0da0f70b",
   "metadata": {},
   "outputs": [
    {
     "name": "stdout",
     "output_type": "stream",
     "text": [
      "串列[3, 1, 8, 6, 5]的極大值為：8，極小值為：1\n"
     ]
    }
   ],
   "source": []
  },
  {
   "cell_type": "markdown",
   "id": "f7642515",
   "metadata": {},
   "source": [
    "### <font color=\"Red\"> 5. (10%)會員金額計算\n",
    "<font color=\"Red\">一家電子商店有不同種類的會員：普通會員和高級會員。    \n",
    "   如果購物金額大於等於$50，普通會員可以獲得5%折扣，高級會員可以獲得10%折扣。     \n",
    "   請計算並輸出會員應支付的金額。"
   ]
  },
  {
   "cell_type": "code",
   "execution_count": 5,
   "id": "fd6feabc",
   "metadata": {},
   "outputs": [
    {
     "name": "stdout",
     "output_type": "stream",
     "text": [
      "請問您是(0)普通會員還是(1)高級會員:1\n",
      "請問您的購買金額為多少:1500\n",
      "您是高級會員，這次購物需要支付1350元\n"
     ]
    }
   ],
   "source": []
  },
  {
   "cell_type": "markdown",
   "id": "b24a9a7a",
   "metadata": {},
   "source": [
    "### <font color=\"Red\"> 6. (20%) 三角形邊長判斷</font>\n",
    "<font color=\"Red\">輸入三個整數，判斷它們是否能構成一個三角形。      \n",
    "    如果可以，判斷它是等邊三角形、等腰三角形還是普通三角形。"
   ]
  },
  {
   "cell_type": "code",
   "execution_count": 6,
   "id": "9c3af82e",
   "metadata": {},
   "outputs": [
    {
     "name": "stdout",
     "output_type": "stream",
     "text": [
      "請輸入三個邊長：(以空白隔開)\n",
      "20 10 25\n",
      "您輸入的三個邊長為：20,10,25\n",
      "這三邊可以構成一個三角形！\n",
      "這三邊可以構成一個普通三角形！\n"
     ]
    }
   ],
   "source": []
  },
  {
   "cell_type": "markdown",
   "id": "26f194f3",
   "metadata": {},
   "source": [
    "### <font color=\"Red\"> 7. (20%)儲蓄年度表\n",
    "    \n",
    "<font color=\"Red\">建立一個簡單的儲蓄年度表，要求使用者輸入存款金額。    \n",
    "根據以下條件計算儲蓄一年到二十年，每年的儲蓄結果：     \n",
    "如果儲蓄期限一年，年利率為1%。        \n",
    "如果儲蓄期限為一年以上，但不足五年，年利率為2%。       \n",
    "如果儲蓄期限為五年或以上，年利率為3%。"
   ]
  },
  {
   "cell_type": "code",
   "execution_count": 6,
   "id": "ddf7816e",
   "metadata": {
    "scrolled": true
   },
   "outputs": [
    {
     "name": "stdout",
     "output_type": "stream",
     "text": [
      "1. money = 10100.0\n",
      "2. money = 10404.0\n",
      "3. money = 10612.080000000002\n",
      "4. money = 10824.3216\n",
      "5. money = 11592.740743\n",
      "6. money = 11940.522965290002\n",
      "7. money = 12298.738654248702\n",
      "8. money = 12667.700813876163\n",
      "9. money = 13047.73183829245\n",
      "10. money = 13439.163793441223\n",
      "11. money = 13842.338707244458\n",
      "12. money = 14257.608868461793\n",
      "13. money = 14685.337134515648\n",
      "14. money = 15125.897248551119\n",
      "15. money = 15579.674166007651\n",
      "16. money = 16047.064390987882\n",
      "17. money = 16528.476322717517\n",
      "18. money = 17024.330612399044\n",
      "19. money = 17535.060530771018\n",
      "20. money = 18061.11234669415\n"
     ]
    }
   ],
   "source": [
    "\n",
    "money = 10000\n",
    "for i in range(1, 20 + 1): print(f'{i}. money = {money * (1.01 if i == 1 else (1.02 if i < 5 else 1.03) ** i)}')\n",
    "\n",
    "\n",
    "\n",
    "\n",
    "# 請問您儲存的金額為:10000\n",
    "# 儲蓄1年的結果為：10100.0\n",
    "# 儲蓄2年的結果為：10404.0\n",
    "# 儲蓄3年的結果為：10612.080000000002\n",
    "# 儲蓄4年的結果為：10824.3216\n",
    "# 儲蓄5年的結果為：11592.740743\n",
    "# 儲蓄6年的結果為：11940.522965290002\n",
    "# 儲蓄7年的結果為：12298.738654248702\n",
    "# 儲蓄8年的結果為：12667.700813876163\n",
    "# 儲蓄9年的結果為：13047.73183829245\n",
    "# 儲蓄10年的結果為：13439.163793441223\n",
    "# 儲蓄11年的結果為：13842.338707244458\n",
    "# 儲蓄12年的結果為：14257.608868461793\n",
    "# 儲蓄13年的結果為：14685.337134515648\n",
    "# 儲蓄14年的結果為：15125.897248551119\n",
    "# 儲蓄15年的結果為：15579.674166007651\n",
    "# 儲蓄16年的結果為：16047.064390987882\n",
    "# 儲蓄17年的結果為：16528.476322717517\n",
    "# 儲蓄18年的結果為：17024.330612399044\n",
    "# 儲蓄19年的結果為：17535.060530771018\n",
    "# 儲蓄20年的結果為：18061.11234669415"
   ]
  },
  {
   "cell_type": "markdown",
   "id": "c820dc23",
   "metadata": {},
   "source": [
    "### <font color=\"Red\"> 8. (20%)請設計一個副程式SubFor，使用for迴圈，輸入n計算下列關係式的值  \n",
    "<font color=\"Red\"> F(0)=1   \n",
    "F(1)=2   \n",
    "F(n)= F(n-1) + 2 * F(n-2) + 1   "
   ]
  },
  {
   "cell_type": "code",
   "execution_count": 14,
   "id": "1a1ed606",
   "metadata": {},
   "outputs": [
    {
     "data": {
      "text/plain": [
       "1365"
      ]
     },
     "execution_count": 14,
     "metadata": {},
     "output_type": "execute_result"
    }
   ],
   "source": [
    "def F(n):\n",
    "    arr = [0,1]\n",
    "    for i in range(2,n+2):\n",
    "        arr.append(arr[i-1] + 2 * arr[i-2] + 1)\n",
    "    return arr[n+1]\n",
    "\n",
    "F(10)"
   ]
  }
 ],
 "metadata": {
  "kernelspec": {
   "display_name": "Python 3 (ipykernel)",
   "language": "python",
   "name": "python3"
  },
  "language_info": {
   "codemirror_mode": {
    "name": "ipython",
    "version": 3
   },
   "file_extension": ".py",
   "mimetype": "text/x-python",
   "name": "python",
   "nbconvert_exporter": "python",
   "pygments_lexer": "ipython3",
   "version": "3.11.4"
  }
 },
 "nbformat": 4,
 "nbformat_minor": 5
}

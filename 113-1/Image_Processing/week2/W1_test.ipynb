{
 "cells": [
  {
   "cell_type": "code",
   "execution_count": 1,
   "metadata": {},
   "outputs": [],
   "source": [
    "import numpy as np\n",
    "import cv2"
   ]
  },
  {
   "cell_type": "markdown",
   "metadata": {},
   "source": [
    "## HW1_讀取圖片\n",
    "用imread函數，調整三種不同參數(-1、0、1)，讀出Lenna.jpg"
   ]
  },
  {
   "cell_type": "code",
   "execution_count": 3,
   "metadata": {},
   "outputs": [],
   "source": [
    "title = [\"Unchanged\", \"Grayscale\", \"Color\"]\n",
    "nums = range(-1,2)\n",
    "for i, num in enumerate(nums):\n",
    "    img = cv2.imread(\"Lenna.jpg\", num)\n",
    "    cv2.imshow(f\"{title[i]}, flag:{num} \",img)\n",
    "cv2.waitKey(0)\n",
    "cv2.destroyAllWindows()"
   ]
  },
  {
   "cell_type": "markdown",
   "metadata": {},
   "source": [
    "## HW2_截圖\n",
    "使用opencv結合numpy 把Lenna的嘴巴範圍截下來\n",
    "(x = 160, y = 200\n",
    "w = 50, h = 30)"
   ]
  },
  {
   "cell_type": "code",
   "execution_count": null,
   "metadata": {},
   "outputs": [
    {
     "data": {
      "text/plain": [
       "True"
      ]
     },
     "execution_count": 17,
     "metadata": {},
     "output_type": "execute_result"
    }
   ],
   "source": [
    "x,y = 160, 200\n",
    "w,h = 50, 30\n",
    "img = cv2.imread(\"Lenna.jpg\",0)\n",
    "ROI = img[y:y + h,x:x + w]\n",
    "cv2.imwrite(\"ROI.jpg\",ROI)"
   ]
  }
 ],
 "metadata": {
  "kernelspec": {
   "display_name": "Python 3 (ipykernel)",
   "language": "python",
   "name": "python3"
  },
  "language_info": {
   "codemirror_mode": {
    "name": "ipython",
    "version": 3
   },
   "file_extension": ".py",
   "mimetype": "text/x-python",
   "name": "python",
   "nbconvert_exporter": "python",
   "pygments_lexer": "ipython3",
   "version": "3.12.2"
  }
 },
 "nbformat": 4,
 "nbformat_minor": 2
}

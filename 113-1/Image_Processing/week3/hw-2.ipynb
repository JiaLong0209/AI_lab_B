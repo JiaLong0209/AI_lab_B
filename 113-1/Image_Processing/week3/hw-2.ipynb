{
 "cells": [
  {
   "cell_type": "code",
   "execution_count": 1,
   "metadata": {},
   "outputs": [],
   "source": [
    "import cv2 "
   ]
  },
  {
   "cell_type": "markdown",
   "metadata": {},
   "source": [
    "# HW1_分析interpolation\n",
    "\n",
    "## 1. INTER_NEAREST（鄰近插值）\n",
    "- **優點**:\n",
    "  - **運算速度最快**\n",
    "  - **保留邊緣銳利度**\n",
    "  - **適合二值圖像**\n",
    "\n",
    "- **缺點**:\n",
    "  - **效果較差**\n",
    "  - **不適合連續變化的影像**\n",
    "\n",
    "- **使用場景**:\n",
    "  - 用於需要快速處理、精度要求較低的場景。\n",
    "  - 適合處理二值圖像或標籤圖像（如語義分割結果）。\n",
    "\n",
    "---\n",
    "\n",
    "## 2. INTER_LINEAR（雙線性插值，預設）\n",
    "- **優點**:\n",
    "  - **平滑效果較好**\n",
    "  - **計算效率較好適中**\n",
    "\n",
    "- **缺點**:\n",
    "  - **邊緣模糊**\n",
    "  - **效果一般**\n",
    "\n",
    "- **使用場景**:\n",
    "  - 適合於大多數的影像縮放、旋轉和變形處理。\n",
    "  - 可用於影像縮小或略微放大的場合，能夠保持合理的視覺效果。\n",
    "\n",
    "---\n",
    "\n",
    "## 3. INTER_CUBIC（雙立方插值）\n",
    "- **優點**:\n",
    "  - **效果最佳**\n",
    "  - **細節保留較好**\n",
    "\n",
    "- **缺點**:\n",
    "  - **計算較慢**\n",
    "  - **資源消耗高**\n",
    "\n",
    "- **使用場景**:\n",
    "  - 用於高品質影像放大，如高解析度圖像的放大處理。\n",
    "  - 適合對影像品質要求較高的應用，如影像編輯、處理等。\n",
    "\n"
   ]
  },
  {
   "cell_type": "code",
   "execution_count": 8,
   "metadata": {},
   "outputs": [],
   "source": [
    "import cv2\n",
    "title = [\"INTER_NEAREST\", \"INTER_LINEAR\", \"INTER_CUBIC\"]\n",
    "for str in title:\n",
    "    img = cv2.resize(cv2.imread(\"Lenna.jpg\", 1), (500, 500), interpolation=eval(f\"cv2.{str}\"))\n",
    "    cv2.imwrite(f\"{str}.jpg\",img )"
   ]
  },
  {
   "cell_type": "markdown",
   "metadata": {},
   "source": [
    "# HW2_ flip() \n",
    "當cv2.flip() 第二個參數為-1時， 圖片會180度旋轉（上下+左右反轉）。"
   ]
  },
  {
   "cell_type": "code",
   "execution_count": 2,
   "metadata": {},
   "outputs": [],
   "source": [
    "import cv2\n",
    "img = cv2.imread(\"Lenna.jpg\")\n",
    "\n",
    "img = cv2.flip(img, -1)\n",
    "\n",
    "cv2.imshow(\"flip -1\", img)\n",
    "cv2.waitKey(0)\n",
    "cv2.destroyAllWindows()\n",
    "\n",
    "\n"
   ]
  }
 ],
 "metadata": {
  "kernelspec": {
   "display_name": "generic",
   "language": "python",
   "name": "python3"
  },
  "language_info": {
   "codemirror_mode": {
    "name": "ipython",
    "version": 3
   },
   "file_extension": ".py",
   "mimetype": "text/x-python",
   "name": "python",
   "nbconvert_exporter": "python",
   "pygments_lexer": "ipython3",
   "version": "3.12.2"
  }
 },
 "nbformat": 4,
 "nbformat_minor": 2
}

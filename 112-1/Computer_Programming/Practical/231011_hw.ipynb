{
 "cells": [
  {
   "cell_type": "code",
   "execution_count": 17,
   "metadata": {},
   "outputs": [
    {
     "name": "stdout",
     "output_type": "stream",
     "text": [
      "     *     \n",
      "    ***    \n",
      "   *****   \n",
      "  *******  \n",
      " ********* \n"
     ]
    }
   ],
   "source": [
    "# Hw 2 pyramid\n",
    "\n",
    "def pyramid(n):\n",
    "    for i,v in enumerate(range(n)):\n",
    "        print(f'{\" \"* (n - i)}{\"*\"*(i*2+1)}{\" \"* (n - i)}')\n",
    "    \n",
    "\n",
    "n = 5\n",
    "pyramid(5)\n"
   ]
  }
 ],
 "metadata": {
  "kernelspec": {
   "display_name": "Python 3",
   "language": "python",
   "name": "python3"
  },
  "language_info": {
   "codemirror_mode": {
    "name": "ipython",
    "version": 3
   },
   "file_extension": ".py",
   "mimetype": "text/x-python",
   "name": "python",
   "nbconvert_exporter": "python",
   "pygments_lexer": "ipython3",
   "version": "3.11.4"
  }
 },
 "nbformat": 4,
 "nbformat_minor": 2
}

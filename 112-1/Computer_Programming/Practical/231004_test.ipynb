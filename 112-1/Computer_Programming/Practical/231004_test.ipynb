{
 "cells": [
  {
   "cell_type": "code",
   "execution_count": 17,
   "metadata": {},
   "outputs": [
    {
     "name": "stdout",
     "output_type": "stream",
     "text": [
      "It is not a triangle\n",
      "It is a right triangle\n",
      "It is an equilateral triangle\n",
      "It is an obtuse triangle\n",
      "It is an isosceles triangle\n",
      "It is an isosceles right triangle\n",
      "It is an isosceles right triangle\n",
      "It is a right triangle\n"
     ]
    }
   ],
   "source": [
    "# Acute triangle\n",
    "# obtuse triangle\n",
    "# right triangle\n",
    "# Isosceles triangle\n",
    "# Isosceles right triangle\n",
    "\n",
    "no = \"It is not a triangle\"\n",
    "acute = \"It is an acute triangle\"\n",
    "obtuse = \"It is an obtuse triangle\"\n",
    "isosceles = \"It is an isosceles triangle\"\n",
    "isoscelesRight = \"It is an isosceles right triangle\"\n",
    "equilateral = \"It is an equilateral triangle\"\n",
    "right = \"It is a right triangle\"\n",
    "\n",
    "def Triangle(a,b,c):\n",
    "    a,b,c = sorted([a,b,c])\n",
    "    if(a+b < c): return print(no)\n",
    "    a,b,c = sorted([round(x*x,10) for x in [a,b,c]])\n",
    "    if(a==b and b==c): \n",
    "        print(equilateral)\n",
    "    elif(a==b): \n",
    "        print(f'{isoscelesRight if a+b == c else isosceles}')\n",
    "    else:\n",
    "        print(f'{acute if a+b > c else (right if a+b == c else obtuse)}')\n",
    "\n",
    "Triangle(1,1,3)\n",
    "# It is not a triangle\n",
    "Triangle(5,3,4)\n",
    "# It is a right triangle\n",
    "Triangle(4,4,4)\n",
    "# It is an equilateral triangle\n",
    "Triangle(10,7,4)\n",
    "# It is an obtuse triangle\n",
    "Triangle(10,10,15)\n",
    "# It is an isosceles triangle\n",
    "Triangle(1,1,math.sqrt(2))\n",
    "# It is an isosceles right triangle\n",
    "Triangle(math.sqrt(2),math.sqrt(2),2)\n",
    "# It is an isosceles right triangle\n",
    "\n",
    "a,b,c = int(input('a=')),int(input('b=')),int(input('c='))\n",
    "Triangle(a,b,c)"
   ]
  }
 ],
 "metadata": {
  "kernelspec": {
   "display_name": "Python 3",
   "language": "python",
   "name": "python3"
  },
  "language_info": {
   "codemirror_mode": {
    "name": "ipython",
    "version": 3
   },
   "file_extension": ".py",
   "mimetype": "text/x-python",
   "name": "python",
   "nbconvert_exporter": "python",
   "pygments_lexer": "ipython3",
   "version": "3.11.4"
  },
  "orig_nbformat": 4
 },
 "nbformat": 4,
 "nbformat_minor": 2
}

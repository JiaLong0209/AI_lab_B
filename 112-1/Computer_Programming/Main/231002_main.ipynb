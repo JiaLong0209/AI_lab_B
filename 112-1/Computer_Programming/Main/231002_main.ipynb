{
 "cells": [
  {
   "cell_type": "code",
   "execution_count": 6,
   "id": "fbe80595",
   "metadata": {},
   "outputs": [
    {
     "name": "stdout",
     "output_type": "stream",
     "text": [
      "[1, 2, 3, 4, 5, 6, 7, 8, 9]\n",
      "[True, False, True, False, True, False, True, False, True]\n",
      "[False, True, False, True, False, True, False, True, False]\n",
      "['Odd', 'Even', 'Odd', 'Even', 'Odd', 'Even', 'Odd', 'Even', 'Odd']\n",
      "\n",
      "[1, 2, 3, 4, 5, 6, 7, 8, 9]\n",
      "[True, False, True, False, True, False, True, False, True]\n",
      "[False, True, False, True, False, True, False, True, False]\n",
      "['Odd', 'Even', 'Odd', 'Even', 'Odd', 'Even', 'Odd', 'Even', 'Odd']\n"
     ]
    }
   ],
   "source": [
    "a = [1,2,3,4,5,6,7,8,9]\n",
    "\n",
    "def map_decorator(fun):\n",
    "    def wrap(arr):\n",
    "        return [fun(i) for i in arr]\n",
    "    return wrap\n",
    "\n",
    "def map(arr, fun):\n",
    "    return [fun(i) for i in arr]\n",
    "\n",
    "\n",
    "isOdd = lambda i : not not (i % 2)\n",
    "isEven = lambda i : i % 2 == 0\n",
    "isEvenOrOdd = lambda i : \"Odd\" if i % 2 else \"Even\"\n",
    "\n",
    "@map_decorator\n",
    "def toIsOddArray(arr): return isOdd(arr)\n",
    "\n",
    "@map_decorator\n",
    "def toIsEvenArray(arr): return isEven(arr)\n",
    "\n",
    "@map_decorator\n",
    "def toEvenOddArray(arr): return isEvenOrOdd(arr)\n",
    "\n",
    "\n",
    "print(a)\n",
    "print(map(a, isOdd))\n",
    "print(map(a, isEven))\n",
    "print(map(a, isEvenOrOdd), end='\\n\\n')\n",
    "\n",
    "print(a)\n",
    "print(toIsOddArray(a))\n",
    "print(toIsEvenArray(a))\n",
    "print(toEvenOddArray(a))"
   ]
  },
  {
   "cell_type": "code",
   "execution_count": 21,
   "id": "f811ca8f",
   "metadata": {},
   "outputs": [
    {
     "name": "stdout",
     "output_type": "stream",
     "text": [
      "-3\n"
     ]
    }
   ],
   "source": [
    "a,b,c = 3, -3, 5\n",
    "smallest = lambda *args: sorted([*args])[0]\n",
    "print(smallest(a,b,c))\n"
   ]
  },
  {
   "cell_type": "code",
   "execution_count": 37,
   "id": "257814b7",
   "metadata": {},
   "outputs": [
    {
     "name": "stdout",
     "output_type": "stream",
     "text": [
      "Do you live in Tamsui (y/n):n\n",
      "What year are you in college:5\n",
      "You are not live in Tamsui, and the year in college is 5.\n",
      "There may not be classes in the morning, and you need to get up early.\n"
     ]
    }
   ],
   "source": [
    "isLiving = True if input('Do you live in Tamsui (y/n):') == 'y' else False\n",
    "year = int(input('What year are you in college:'))\n",
    "\n",
    "print(f'You are{\" not\" if not isLiving else \" \"} live in Tamsui, and the year in college is {year}.\\nThere may{\" not\" if year >= 4 else \" \"} be classes in the morning, and you{\" do not\" if isLiving else \"\"} need to get up early.')"
   ]
  },
  {
   "cell_type": "code",
   "execution_count": 52,
   "id": "ff6f24a6",
   "metadata": {},
   "outputs": [
    {
     "name": "stdout",
     "output_type": "stream",
     "text": [
      "In 'Today is a good day', the symbol 'T' appears 1 times.\n",
      "In 'Today is a good day', the symbol 'o' appears 3 times.\n",
      "In 'Today is a good day', the symbol 'd' appears 3 times.\n",
      "In 'Today is a good day', the symbol 'a' appears 3 times.\n",
      "In 'Today is a good day', the symbol 'y' appears 2 times.\n",
      "In 'Today is a good day', the symbol ' ' appears 4 times.\n",
      "In 'Today is a good day', the symbol 'i' appears 1 times.\n",
      "In 'Today is a good day', the symbol 's' appears 1 times.\n",
      "In 'Today is a good day', the symbol 'g' appears 1 times.\n"
     ]
    }
   ],
   "source": [
    "def countAlphabet(str):\n",
    "    for k,v in ({i:str.count(i) for i in str}).items():\n",
    "        print(f\"In '{str}', the symbol '{k}' appears {v} times.\")\n",
    "    return\n",
    "\n",
    "s = 'Today is a good day'\n",
    "countAlphabet(s)"
   ]
  }
 ],
 "metadata": {
  "kernelspec": {
   "display_name": "Python 3",
   "language": "python",
   "name": "python3"
  },
  "language_info": {
   "codemirror_mode": {
    "name": "ipython",
    "version": 3
   },
   "file_extension": ".py",
   "mimetype": "text/x-python",
   "name": "python",
   "nbconvert_exporter": "python",
   "pygments_lexer": "ipython3",
   "version": "3.8.8"
  }
 },
 "nbformat": 4,
 "nbformat_minor": 5
}

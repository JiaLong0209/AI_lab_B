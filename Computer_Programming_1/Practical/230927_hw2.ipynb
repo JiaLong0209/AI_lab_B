{
 "cells": [
  {
   "cell_type": "code",
   "execution_count": 44,
   "metadata": {},
   "outputs": [
    {
     "name": "stdout",
     "output_type": "stream",
     "text": [
      "-------------------------\n",
      "User Name: jialong\n",
      "User Password: 12341234\n",
      "IsLogin: False\n",
      "\n",
      "Login successful!\n",
      "1 jialong 12341234\n",
      "Login Failed\n",
      "1 jialong 1235341234\n",
      "-------------------------\n",
      "User Name: jialong\n",
      "User Password: 12341234\n",
      "IsLogin: False\n",
      "\n",
      "you have not Login!\n",
      "Login successful!\n",
      "1 jialong 12341234\n",
      "Your amount: 1020.0\n",
      "Your amount: 1010.0\n",
      "Your amount: 1030.0\n"
     ]
    },
    {
     "data": {
      "text/plain": [
       "1030.0"
      ]
     },
     "execution_count": 44,
     "metadata": {},
     "output_type": "execute_result"
    }
   ],
   "source": [
    "# Ex.4 & Ex.5 Login System and Bank System\n",
    "\n",
    "class User():\n",
    "    def __init__(self, name, password):\n",
    "        self.__name = str(name)\n",
    "        self.__password = str(password)\n",
    "        self.isLogin = False\n",
    "\n",
    "    def Login(self, name = '', password = ''):\n",
    "        if(self.isLogin): return print('You have already Login!')\n",
    "        if(name and password):\n",
    "            self.validation(name, password)\n",
    "            print(1, name, password)\n",
    "        else:\n",
    "            name = input('Enter user name: ')\n",
    "            password = input('Enter user password: ')\n",
    "            self.validation(name, password)\n",
    "            print(2)\n",
    "\n",
    "    def Logout(self):\n",
    "        self.isLogin = False \n",
    "\n",
    "    def validation(self, name, password):\n",
    "        if(str(name) == self.__name and str(password) == self.__password):\n",
    "            print('Login successful!')\n",
    "            self.isLogin = True\n",
    "        else : print('Login Failed')\n",
    "\n",
    "    def info(self):\n",
    "        print('-'*25)\n",
    "        print(f'User Name: {self.__name}\\nUser Password: {self.__password}\\nIsLogin: {self.isLogin}\\n')\n",
    "\n",
    "    def deposit(self, amount = 0, term = 0):\n",
    "        if(not self.isLogin): return print('you have not Login!')\n",
    "        amount = amount * (1.01 if term < 1 else 1.02 if term < 5 else 1.03)\n",
    "        print(f'Your amount: {amount}')\n",
    "        return amount\n",
    "\n",
    "a = User('jialong', 12341234)\n",
    "a.info()\n",
    "\n",
    "a.Login('jialong', 12341234)\n",
    "a.Logout()\n",
    "a.Login('jialong', 1235341234)\n",
    "a.info()\n",
    "\n",
    "a.deposit(1, 3)\n",
    "a.Login('jialong', 12341234)\n",
    "a.deposit(1000, 0.5)\n",
    "a.deposit(1000, 3)\n",
    "a.deposit(1000, 6)\n",
    "        "
   ]
  }
 ],
 "metadata": {
  "kernelspec": {
   "display_name": "Python 3",
   "language": "python",
   "name": "python3"
  },
  "language_info": {
   "name": "python",
   "version": "3.11.4"
  },
  "orig_nbformat": 4
 },
 "nbformat": 4,
 "nbformat_minor": 2
}

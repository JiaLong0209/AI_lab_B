{
 "cells": [
  {
   "cell_type": "code",
   "execution_count": 12,
   "metadata": {},
   "outputs": [
    {
     "name": "stdout",
     "output_type": "stream",
     "text": [
      "jialong 12341234 False\n",
      "Login successful!\n",
      "jialong 12341234 True\n"
     ]
    }
   ],
   "source": [
    "# Ex.4 & Ex.5 Login System and Bank System\n",
    "\n",
    "class User():\n",
    "    def __init__(self, name, password):\n",
    "        self.name = str(name)\n",
    "        self.password = str(password)\n",
    "        self.isLogin = False\n",
    "\n",
    "    def Login(self):\n",
    "        name = str(input('Enter user name: '))\n",
    "        password = str(input('Enter user password: '))\n",
    "        if(name == self.name and password == self.password):\n",
    "            print('Login successful!')\n",
    "            self.isLogin = True\n",
    "        else : print('Login Failed')\n",
    "\n",
    "    def info(self):\n",
    "        print(self.name, self.password, self.isLogin)\n",
    "            \n",
    "a = User('jialong', 12341234)\n",
    "a.info()\n",
    "\n",
    "a.Login()\n",
    "a.info()\n",
    "\n",
    "        "
   ]
  }
 ],
 "metadata": {
  "kernelspec": {
   "display_name": "Python 3",
   "language": "python",
   "name": "python3"
  },
  "language_info": {
   "codemirror_mode": {
    "name": "ipython",
    "version": 3
   },
   "file_extension": ".py",
   "mimetype": "text/x-python",
   "name": "python",
   "nbconvert_exporter": "python",
   "pygments_lexer": "ipython3",
   "version": "3.11.4"
  },
  "orig_nbformat": 4
 },
 "nbformat": 4,
 "nbformat_minor": 2
}

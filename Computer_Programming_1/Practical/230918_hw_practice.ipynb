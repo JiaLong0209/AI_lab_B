{
 "cells": [
  {
   "cell_type": "code",
   "execution_count": 1,
   "id": "4fe040bc",
   "metadata": {},
   "outputs": [
    {
     "name": "stdout",
     "output_type": "stream",
     "text": [
      "Hello, a\n"
     ]
    }
   ],
   "source": [
    "# Ex.1 \n",
    "str = input('Enter a string')\n",
    "print(\"Hello,\", str)\n",
    "\n"
   ]
  },
  {
   "cell_type": "code",
   "execution_count": null,
   "id": "d2b081f9",
   "metadata": {},
   "outputs": [],
   "source": [
    "# Ex.2\n",
    "a = input()\n",
    "b = input()\n",
    "print(a+b)\n"
   ]
  },
  {
   "cell_type": "code",
   "execution_count": 67,
   "id": "81354d5d",
   "metadata": {},
   "outputs": [
    {
     "data": {
      "text/plain": [
       "0.6"
      ]
     },
     "execution_count": 67,
     "metadata": {},
     "output_type": "execute_result"
    }
   ],
   "source": [
    "# Ex.3\n",
    "# def tokg(fun):\n",
    "#     def w(x):\n",
    "#         return fun(x) * 0.6;\n",
    "#     return w\n",
    "\n",
    "# @ tokg\n",
    "# def f(x) : return x\n",
    "# print(f(1))\n",
    "\n",
    "@(lambda f: lambda *x : f(*x) * 0.6) \n",
    "def original(x) : return x\n",
    "original(1)\n",
    "\n",
    "# original = (lambda fun: lambda *args: fun(*args) * 0.6) (lambda x: x)\n",
    "# print(original(1))  # This will print 0.6\n",
    "\n",
    "\n",
    "\n"
   ]
  },
  {
   "cell_type": "code",
   "execution_count": 101,
   "id": "390b63cb",
   "metadata": {},
   "outputs": [
    {
     "name": "stdout",
     "output_type": "stream",
     "text": [
      "50\n"
     ]
    },
    {
     "data": {
      "text/plain": [
       "70"
      ]
     },
     "execution_count": 101,
     "metadata": {},
     "output_type": "execute_result"
    }
   ],
   "source": [
    "# Ex.4 If a pen cost 5$, and 12 pens cost 50$\n",
    "\n",
    "def dec(f):\n",
    "\n",
    "    def p(inner):\n",
    "        return f(inner)     # inner(x) == w(x)\n",
    "        \n",
    "    @p\n",
    "    def w(x):\n",
    "        return f(x)//12 * 50 + f(x)%12 * 5\n",
    "    return w\n",
    "\n",
    "@dec \n",
    "def cost (x) : return x\n",
    "\n",
    "cost(16)\n",
    "\n",
    "# cost = (lambda f : (lambda inner : f(inner))(lambda x: f(x)//12 * 50 + f(x)%12 * 5))(lambda a: a)\n",
    "# cost(16)"
   ]
  },
  {
   "cell_type": "code",
   "execution_count": 1,
   "id": "6ef837e4",
   "metadata": {},
   "outputs": [
    {
     "name": "stdout",
     "output_type": "stream",
     "text": [
      "1\n",
      "Hello Function: a\n",
      "2\n",
      "Hello Function: b\n",
      "3\n",
      "Hello2 Function: c\n",
      "Hello Function: fun2\n"
     ]
    }
   ],
   "source": [
    "# -------------------Practice-------------------\n",
    "def vari(inputFun):\n",
    "    def fun():\n",
    "        print('Hello Function: {}'.format(inputFun.__name__))\n",
    "    inputFun()\n",
    "    return fun\n",
    "\n",
    "def vari2(inputFun):\n",
    "    def fun2():\n",
    "        print('Hello2 Function: {}'.format(inputFun.__name__))\n",
    "    inputFun()\n",
    "    return fun2\n",
    "\n",
    "def a():\n",
    "    print(1)\n",
    "\n",
    "vari(a)()\n",
    "\n",
    "@vari\n",
    "def b():\n",
    "    print(2)\n",
    "    \n",
    "b()\n",
    "\n",
    "\n",
    "@vari\n",
    "@vari2\n",
    "def c():\n",
    "    print(3)\n",
    "    \n",
    "c()"
   ]
  },
  {
   "cell_type": "code",
   "execution_count": 4,
   "id": "c938583d",
   "metadata": {},
   "outputs": [
    {
     "name": "stdout",
     "output_type": "stream",
     "text": [
      "\"<class 'method-wrapper'>\"\n"
     ]
    },
    {
     "data": {
      "text/plain": [
       "'1200000'"
      ]
     },
     "execution_count": 4,
     "metadata": {},
     "output_type": "execute_result"
    }
   ],
   "source": [
    "a = True\n",
    "print(str(type(a.__repr__)).__repr__())\n",
    "\n",
    "round(1235235,-5).__repr__()"
   ]
  },
  {
   "cell_type": "code",
   "execution_count": 114,
   "id": "bbdc37e5",
   "metadata": {},
   "outputs": [
    {
     "name": "stdout",
     "output_type": "stream",
     "text": [
      "'c''c''c''c''c''c'\n"
     ]
    }
   ],
   "source": [
    "def fun1(inputFun):\n",
    "    return inputFun.__name__.__repr__()\n",
    "\n",
    "@fun1 \n",
    "def c():\n",
    "    print(3)\n",
    "    \n",
    "print(c*c.__len__())\n",
    "\n"
   ]
  },
  {
   "cell_type": "code",
   "execution_count": 27,
   "id": "e5b7fae3",
   "metadata": {},
   "outputs": [
    {
     "name": "stdout",
     "output_type": "stream",
     "text": [
      "function\n"
     ]
    },
    {
     "ename": "TypeError",
     "evalue": "function() missing required argument 'globals' (pos 2)",
     "output_type": "error",
     "traceback": [
      "\u001b[0;31m---------------------------------------------------------------------------\u001b[0m",
      "\u001b[0;31mTypeError\u001b[0m                                 Traceback (most recent call last)",
      "\u001b[1;32m/home/jialong/Programming/TKU_Assignments/Computer_Programming_1/Practical/230918_hw_practice.ipynb 儲存格 7\u001b[0m line \u001b[0;36m3\n\u001b[1;32m      <a href='vscode-notebook-cell:/home/jialong/Programming/TKU_Assignments/Computer_Programming_1/Practical/230918_hw_practice.ipynb#W3sZmlsZQ%3D%3D?line=0'>1</a>\u001b[0m \u001b[39mdef\u001b[39;00m \u001b[39ma\u001b[39m(x): \u001b[39mreturn\u001b[39;00m a\n\u001b[1;32m      <a href='vscode-notebook-cell:/home/jialong/Programming/TKU_Assignments/Computer_Programming_1/Practical/230918_hw_practice.ipynb#W3sZmlsZQ%3D%3D?line=1'>2</a>\u001b[0m \u001b[39mprint\u001b[39m(a\u001b[39m.\u001b[39m\u001b[39m__class__\u001b[39m\u001b[39m.\u001b[39m\u001b[39m__name__\u001b[39m)\n\u001b[0;32m----> <a href='vscode-notebook-cell:/home/jialong/Programming/TKU_Assignments/Computer_Programming_1/Practical/230918_hw_practice.ipynb#W3sZmlsZQ%3D%3D?line=2'>3</a>\u001b[0m \u001b[39mprint\u001b[39m(a\u001b[39m.\u001b[39;49m\u001b[39m__class__\u001b[39;49m(\u001b[39m'\u001b[39;49m\u001b[39masdfij\u001b[39;49m\u001b[39m'\u001b[39;49m))\n",
      "\u001b[0;31mTypeError\u001b[0m: function() missing required argument 'globals' (pos 2)"
     ]
    }
   ],
   "source": [
    "def a(x): return a\n",
    "print(a.__class__.__name__)"
   ]
  }
 ],
 "metadata": {
  "kernelspec": {
   "display_name": "Python 3",
   "language": "python",
   "name": "python3"
  },
  "language_info": {
   "codemirror_mode": {
    "name": "ipython",
    "version": 3
   },
   "file_extension": ".py",
   "mimetype": "text/x-python",
   "name": "python",
   "nbconvert_exporter": "python",
   "pygments_lexer": "ipython3",
   "version": "3.11.4"
  }
 },
 "nbformat": 4,
 "nbformat_minor": 5
}

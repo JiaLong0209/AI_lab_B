{
 "cells": [
  {
   "cell_type": "code",
   "execution_count": 6,
   "id": "18e61cfa",
   "metadata": {},
   "outputs": [
    {
     "name": "stdout",
     "output_type": "stream",
     "text": [
      "1\n",
      "1.0g = 0.001 kilograms\n"
     ]
    }
   ],
   "source": [
    "# Ex.3\n",
    "\n",
    "tai = float(input())\n",
    "\n",
    "kilograms = tai / 1000\n",
    "\n",
    "print(f'{tai}g = {kilograms} kilograms')"
   ]
  },
  {
   "cell_type": "code",
   "execution_count": 7,
   "id": "c96bc24f",
   "metadata": {},
   "outputs": [
    {
     "name": "stdout",
     "output_type": "stream",
     "text": [
      "70\n"
     ]
    }
   ],
   "source": [
    "# Ex.4\n",
    "\n",
    "num = 14\n",
    "\n",
    "price = 5\n",
    "\n",
    "cost = num * price\n",
    "\n",
    "print(f'{cost}')\n",
    "\n"
   ]
  },
  {
   "cell_type": "code",
   "execution_count": null,
   "id": "82893f2f",
   "metadata": {},
   "outputs": [],
   "source": []
  },
  {
   "cell_type": "code",
   "execution_count": null,
   "id": "876aa8b9",
   "metadata": {},
   "outputs": [],
   "source": []
  }
 ],
 "metadata": {
  "kernelspec": {
   "display_name": "Python 3",
   "language": "python",
   "name": "python3"
  },
  "language_info": {
   "codemirror_mode": {
    "name": "ipython",
    "version": 3
   },
   "file_extension": ".py",
   "mimetype": "text/x-python",
   "name": "python",
   "nbconvert_exporter": "python",
   "pygments_lexer": "ipython3",
   "version": "3.8.8"
  }
 },
 "nbformat": 4,
 "nbformat_minor": 5
}

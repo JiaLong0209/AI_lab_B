{
 "cells": [
  {
   "cell_type": "code",
   "execution_count": 9,
   "metadata": {},
   "outputs": [
    {
     "name": "stdout",
     "output_type": "stream",
     "text": [
      "50\n",
      "80.0\n",
      "160.0\n",
      "50\n",
      "90.0\n",
      "180.0\n"
     ]
    }
   ],
   "source": [
    "# Ex.1 Normal member can receive a 10% discount,\n",
    "#      VIP can receive a 20% discount when cose >= 100.\n",
    "\n",
    "class member():\n",
    "    def __init__(self, name, isVIP):\n",
    "        self.name = name\n",
    "        self.isVIP = isVIP\n",
    "\n",
    "    def cost(self, price):\n",
    "        return price if price < 100 else (price * 0.8 if self.isVIP else price * 0.9)\n",
    "\n",
    "a = member('a', True)\n",
    "print(a.cost(50))\n",
    "print(a.cost(100))\n",
    "print(a.cost(200))\n",
    "\n",
    "b = member('b', False)\n",
    "print(b.cost(50))\n",
    "print(b.cost(100))\n",
    "print(b.cost(200))\n"
   ]
  },
  {
   "cell_type": "code",
   "execution_count": 30,
   "metadata": {},
   "outputs": [
    {
     "name": "stdout",
     "output_type": "stream",
     "text": [
      "It is a right triangle\n",
      "It is an acute triangle\n",
      "It is an obtuse triangle\n",
      "It is a right triangle\n"
     ]
    }
   ],
   "source": [
    "# Ex.2 \n",
    "# Acute triangle\n",
    "# obtuse triangle\n",
    "# right triangle\n",
    "\n",
    "acute = \"It is an acute triangle\"\n",
    "obtuse = \"It is an obtuse triangle\"\n",
    "right = \"It is a right triangle\"\n",
    "no = \"It is not a triangle\"\n",
    "def isTriangle(a,b,c):\n",
    "    a,b,c = sorted([x*x for x in [a,b,c]])\n",
    "    print(f'{acute if a+b > c else right if a+b == c else obtuse if a+b < c else no}')\n",
    "\n",
    "\n",
    "isTriangle(5,3,4)\n",
    "isTriangle(4,4,4)\n",
    "isTriangle(10,7,4)\n",
    "isTriangle(9,40,41)"
   ]
  },
  {
   "cell_type": "code",
   "execution_count": 123,
   "metadata": {},
   "outputs": [
    {
     "name": "stdout",
     "output_type": "stream",
     "text": [
      "False\n",
      "True\n",
      "True\n",
      "True\n",
      "True\n",
      "True\n",
      "True\n"
     ]
    }
   ],
   "source": [
    "# Ex.3 Armstrong Number a.k.a Narcissistic number or pluperfect digital invariant, PPDI\n",
    "from functools import reduce\n",
    "\n",
    "\n",
    "def isArmstrongNumber(num):\n",
    "    return reduce(lambda x,y: x + y**len(str(num)), [int(x) for x in str(num)], 0) % int(num) == 0\n",
    "    \n",
    "\n",
    "print(isArmstrongNumber(30))\n",
    "print(isArmstrongNumber(153))\n",
    "\n",
    "print(isArmstrongNumber(370))\n",
    "print(isArmstrongNumber(146511208))\n",
    "print(isArmstrongNumber(174088005938065293023722))\n",
    "print(isArmstrongNumber(186709961001538790100634132976990))\n",
    "print(isArmstrongNumber(115132219018763992565095597973971522401))\n",
    "\n"
   ]
  }
 ],
 "metadata": {
  "kernelspec": {
   "display_name": "Python 3",
   "language": "python",
   "name": "python3"
  },
  "language_info": {
   "codemirror_mode": {
    "name": "ipython",
    "version": 3
   },
   "file_extension": ".py",
   "mimetype": "text/x-python",
   "name": "python",
   "nbconvert_exporter": "python",
   "pygments_lexer": "ipython3",
   "version": "3.11.4"
  },
  "orig_nbformat": 4
 },
 "nbformat": 4,
 "nbformat_minor": 2
}

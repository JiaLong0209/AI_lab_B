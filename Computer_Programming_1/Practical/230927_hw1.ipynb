{
 "cells": [
  {
   "cell_type": "code",
   "execution_count": 9,
   "metadata": {},
   "outputs": [
    {
     "name": "stdout",
     "output_type": "stream",
     "text": [
      "50\n",
      "80.0\n",
      "160.0\n",
      "50\n",
      "90.0\n",
      "180.0\n"
     ]
    }
   ],
   "source": [
    "# Ex.1 Normal member can receive a 10% discount,\n",
    "#      VIP can receive a 20% discount when cose >= 100.\n",
    "\n",
    "class member():\n",
    "    def __init__(self, name, isVIP):\n",
    "        self.name = name\n",
    "        self.isVIP = isVIP\n",
    "\n",
    "    def cost(self, price):\n",
    "        return price if price < 100 else (price * 0.8 if self.isVIP else price * 0.9)\n",
    "\n",
    "a = member('a', True)\n",
    "print(a.cost(50))\n",
    "print(a.cost(100))\n",
    "print(a.cost(200))\n",
    "\n",
    "b = member('b', False)\n",
    "print(b.cost(50))\n",
    "print(b.cost(100))\n",
    "print(b.cost(200))\n"
   ]
  },
  {
   "cell_type": "code",
   "execution_count": null,
   "metadata": {},
   "outputs": [],
   "source": [
    "# Ex.2 "
   ]
  }
 ],
 "metadata": {
  "kernelspec": {
   "display_name": "Python 3",
   "language": "python",
   "name": "python3"
  },
  "language_info": {
   "codemirror_mode": {
    "name": "ipython",
    "version": 3
   },
   "file_extension": ".py",
   "mimetype": "text/x-python",
   "name": "python",
   "nbconvert_exporter": "python",
   "pygments_lexer": "ipython3",
   "version": "3.11.4"
  },
  "orig_nbformat": 4
 },
 "nbformat": 4,
 "nbformat_minor": 2
}

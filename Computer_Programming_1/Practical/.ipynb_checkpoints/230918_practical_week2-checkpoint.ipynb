{
 "cells": [
  {
   "cell_type": "code",
   "execution_count": 117,
   "id": "6ef837e4",
   "metadata": {},
   "outputs": [
    {
     "name": "stdout",
     "output_type": "stream",
     "text": [
      "1\n",
      "Hello Function: a\n",
      "2\n",
      "Hello Function: b\n",
      "3\n",
      "Hello2 Function: c\n",
      "Hello Function: fun2\n"
     ]
    }
   ],
   "source": [
    "# -------------------Practice-------------------\n",
    "def vari(inputFun):\n",
    "    def fun():\n",
    "        print('Hello Function: {}'.format(inputFun.__name__))\n",
    "    inputFun()\n",
    "    return fun\n",
    "\n",
    "def vari2(inputFun):\n",
    "    def fun2():\n",
    "        print('Hello2 Function: {}'.format(inputFun.__name__))\n",
    "    inputFun()\n",
    "    return fun2\n",
    "\n",
    "def a():\n",
    "    print(1)\n",
    "\n",
    "vari(a)()\n",
    "\n",
    "@vari\n",
    "def b():\n",
    "    print(2)\n",
    "    \n",
    "b()\n",
    "\n",
    "\n",
    "@vari\n",
    "@vari2\n",
    "def c():\n",
    "    print(3)\n",
    "    \n",
    "c()"
   ]
  },
  {
   "cell_type": "code",
   "execution_count": 97,
   "id": "c938583d",
   "metadata": {},
   "outputs": [
    {
     "name": "stdout",
     "output_type": "stream",
     "text": [
      "\"<class 'method-wrapper'>\"\n"
     ]
    },
    {
     "data": {
      "text/plain": [
       "'1200000'"
      ]
     },
     "execution_count": 97,
     "metadata": {},
     "output_type": "execute_result"
    }
   ],
   "source": [
    "a = True\n",
    "print(str(type(a.__repr__)).__repr__())\n",
    "\n",
    "round(1235235,-5).__repr__()"
   ]
  },
  {
   "cell_type": "code",
   "execution_count": 114,
   "id": "bbdc37e5",
   "metadata": {},
   "outputs": [
    {
     "name": "stdout",
     "output_type": "stream",
     "text": [
      "'c''c''c''c''c''c'\n"
     ]
    }
   ],
   "source": [
    "def fun1(inputFun):\n",
    "    return inputFun.__name__.__repr__()\n",
    "\n",
    "@fun1 \n",
    "def c():\n",
    "    print(3)\n",
    "    \n",
    "print(c*c.__len__())\n",
    "\n"
   ]
  },
  {
   "cell_type": "code",
   "execution_count": 109,
   "id": "e5b7fae3",
   "metadata": {},
   "outputs": [
    {
     "name": "stdout",
     "output_type": "stream",
     "text": [
      "--------------------\n"
     ]
    }
   ],
   "source": [
    "print(\"-\"*20)"
   ]
  }
 ],
 "metadata": {
  "kernelspec": {
   "display_name": "Python 3",
   "language": "python",
   "name": "python3"
  },
  "language_info": {
   "codemirror_mode": {
    "name": "ipython",
    "version": 3
   },
   "file_extension": ".py",
   "mimetype": "text/x-python",
   "name": "python",
   "nbconvert_exporter": "python",
   "pygments_lexer": "ipython3",
   "version": "3.8.8"
  }
 },
 "nbformat": 4,
 "nbformat_minor": 5
}

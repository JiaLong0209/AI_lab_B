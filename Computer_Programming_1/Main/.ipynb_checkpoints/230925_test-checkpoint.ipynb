{
 "cells": [
  {
   "cell_type": "code",
   "execution_count": 13,
   "id": "69c09e94",
   "metadata": {},
   "outputs": [],
   "source": [
    "bmi = lambda h,w: w/(h/100)**2\n",
    "p = lambda *a,**k : print(*a, **k)"
   ]
  },
  {
   "cell_type": "code",
   "execution_count": 28,
   "id": "388842dd",
   "metadata": {
    "scrolled": true
   },
   "outputs": [
    {
     "name": "stdout",
     "output_type": "stream",
     "text": [
      "Hi, jialong\n",
      "Your weight is 53 kg\n",
      "Your height is 162.00 cm\n",
      "--------------------\n",
      "Your weight is 53 kg\n",
      "Your height is 162.00 cm\n",
      "--------------------\n",
      "Your weight is 53 kg\n",
      "Your height is 162.00 cm\n",
      "--------------------\n"
     ]
    },
    {
     "data": {
      "text/plain": [
       "20.195092211553114"
      ]
     },
     "execution_count": 28,
     "metadata": {},
     "output_type": "execute_result"
    }
   ],
   "source": [
    "name = 'jialong'; height = 162; weight = 53\n",
    "\n",
    "p(\"Hi, %s\"%name)\n",
    "\n",
    "s1 = 'Your weight is %d kg' % weight\n",
    "s2 = 'Your height is %.2f cm'\n",
    "hr = '-'\n",
    "\n",
    "p(s1, s2%height, '-'*20, sep='\\n')\n",
    "\n",
    "p(s1 + '\\n' + s2%height + '\\n' + hr*20)\n",
    "\n",
    "p(f'{s1}\\n{s2%height}\\n{hr*20}')\n",
    "\n",
    "\n",
    "bmi(height, weight)"
   ]
  },
  {
   "cell_type": "code",
   "execution_count": 38,
   "id": "a89be96f",
   "metadata": {},
   "outputs": [
    {
     "name": "stdout",
     "output_type": "stream",
     "text": [
      "19.81405273586343\n",
      "19.81405273586343\n"
     ]
    }
   ],
   "source": [
    "h,w = 162, 52\n",
    "def dec(fun):\n",
    "    def wrap(h,w):\n",
    "        return w/(h/100)**2\n",
    "    return wrap\n",
    "\n",
    "@dec\n",
    "def bmi(h,w): return Null\n",
    "p(bmi(h,w))\n",
    "\n",
    "def bmiH(h):\n",
    "    def bmiW(w):\n",
    "        return w/(h/100)**2\n",
    "    return bmiW\n",
    "\n",
    "p(bmiH(h)(w))\n"
   ]
  },
  {
   "cell_type": "code",
   "execution_count": 53,
   "id": "f912a47c",
   "metadata": {},
   "outputs": [
    {
     "name": "stdout",
     "output_type": "stream",
     "text": [
      "False\n",
      "False\n",
      "True\n"
     ]
    }
   ],
   "source": [
    "p('034' > '04')\n",
    "\n",
    "p('a242' > 'b1')\n",
    "\n",
    "p('a242' > 'A35')\n",
    "\n",
    "\n",
    "\n"
   ]
  },
  {
   "cell_type": "code",
   "execution_count": 100,
   "id": "80afdecf",
   "metadata": {},
   "outputs": [
    {
     "name": "stdout",
     "output_type": "stream",
     "text": [
      "your score is 95\n",
      "your rank is A\n"
     ]
    }
   ],
   "source": [
    "import math\n",
    "score = 95\n",
    "ranks = ['A','B','C','D','E'][::-1]\n",
    "r = math.ceil((score-60)/10)\n",
    "s = f'your rank is {ranks[len(ranks)-1 if r >= len(ranks) else (r if r>=0 else 0)]}'\n",
    "\n",
    "p(f'your score is {score}')\n",
    "p(s)\n"
   ]
  }
 ],
 "metadata": {
  "kernelspec": {
   "display_name": "Python 3",
   "language": "python",
   "name": "python3"
  },
  "language_info": {
   "codemirror_mode": {
    "name": "ipython",
    "version": 3
   },
   "file_extension": ".py",
   "mimetype": "text/x-python",
   "name": "python",
   "nbconvert_exporter": "python",
   "pygments_lexer": "ipython3",
   "version": "3.8.8"
  }
 },
 "nbformat": 4,
 "nbformat_minor": 5
}

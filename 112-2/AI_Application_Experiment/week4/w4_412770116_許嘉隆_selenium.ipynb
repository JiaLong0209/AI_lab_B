{
 "cells": [
  {
   "cell_type": "code",
   "execution_count": 2,
   "id": "f0e0399e-8ab5-47ee-b7dc-d90903f62941",
   "metadata": {},
   "outputs": [
    {
     "name": "stdout",
     "output_type": "stream",
     "text": [
      "Requirement already satisfied: selenium in /home/jialong/.pyenv/versions/3.11.4/lib/python3.11/site-packages (4.18.1)\n",
      "Requirement already satisfied: urllib3<3,>=1.26 in /home/jialong/.pyenv/versions/3.11.4/lib/python3.11/site-packages (from urllib3[socks]<3,>=1.26->selenium) (2.0.3)\n",
      "Requirement already satisfied: trio~=0.17 in /home/jialong/.pyenv/versions/3.11.4/lib/python3.11/site-packages (from selenium) (0.24.0)\n",
      "Requirement already satisfied: trio-websocket~=0.9 in /home/jialong/.pyenv/versions/3.11.4/lib/python3.11/site-packages (from selenium) (0.11.1)\n",
      "Requirement already satisfied: certifi>=2021.10.8 in /home/jialong/.pyenv/versions/3.11.4/lib/python3.11/site-packages (from selenium) (2023.5.7)\n",
      "Requirement already satisfied: typing_extensions>=4.9.0 in /home/jialong/.pyenv/versions/3.11.4/lib/python3.11/site-packages (from selenium) (4.10.0)\n",
      "Requirement already satisfied: attrs>=20.1.0 in /home/jialong/.pyenv/versions/3.11.4/lib/python3.11/site-packages (from trio~=0.17->selenium) (23.2.0)\n",
      "Requirement already satisfied: sortedcontainers in /home/jialong/.pyenv/versions/3.11.4/lib/python3.11/site-packages (from trio~=0.17->selenium) (2.4.0)\n",
      "Requirement already satisfied: idna in /home/jialong/.pyenv/versions/3.11.4/lib/python3.11/site-packages (from trio~=0.17->selenium) (3.4)\n",
      "Requirement already satisfied: outcome in /home/jialong/.pyenv/versions/3.11.4/lib/python3.11/site-packages (from trio~=0.17->selenium) (1.3.0.post0)\n",
      "Requirement already satisfied: sniffio>=1.3.0 in /home/jialong/.pyenv/versions/3.11.4/lib/python3.11/site-packages (from trio~=0.17->selenium) (1.3.1)\n",
      "Requirement already satisfied: wsproto>=0.14 in /home/jialong/.pyenv/versions/3.11.4/lib/python3.11/site-packages (from trio-websocket~=0.9->selenium) (1.2.0)\n",
      "Requirement already satisfied: pysocks!=1.5.7,<2.0,>=1.5.6 in /home/jialong/.pyenv/versions/3.11.4/lib/python3.11/site-packages (from urllib3[socks]<3,>=1.26->selenium) (1.7.1)\n",
      "Requirement already satisfied: h11<1,>=0.9.0 in /home/jialong/.pyenv/versions/3.11.4/lib/python3.11/site-packages (from wsproto>=0.14->trio-websocket~=0.9->selenium) (0.14.0)\n"
     ]
    }
   ],
   "source": [
    "!pip install selenium "
   ]
  },
  {
   "cell_type": "code",
   "execution_count": 4,
   "id": "1138aaa7-b0a8-420b-93c0-c27dbace96db",
   "metadata": {},
   "outputs": [],
   "source": [
    "import time\n",
    "from selenium import webdriver\n",
    "from selenium.webdriver.common.by import By\n",
    "\n",
    "driver = webdriver.Chrome()\n",
    "\n",
    "path = \"https://artsandculture.google.com/partner/national-palace-museum-taiwan\"\n",
    "driver.get(path)\n",
    "\n",
    "time.sleep(1)\n",
    "\n",
    "driver.close()\n"
   ]
  },
  {
   "cell_type": "code",
   "execution_count": 10,
   "id": "a66c77b6",
   "metadata": {},
   "outputs": [],
   "source": [
    "import time\n",
    "from selenium import webdriver\n",
    "from selenium.webdriver.common.by import By\n",
    "\n",
    "driver = webdriver.Chrome()\n",
    "\n",
    "path = \"https://artsandculture.google.com/partner/national-palace-museum-taiwan\"\n",
    "driver.get(path)\n",
    "\n",
    "for i in range(3):\n",
    "    driver.set_window_size(500, 1280)\n",
    "    time.sleep(0.1)\n",
    "    driver.set_window_size(1920, 1280)\n",
    "    time.sleep(0.1)\n",
    "    driver.set_window_size(1500, 303)\n",
    "    time.sleep(0.1)\n",
    "\n",
    "driver.close()\n"
   ]
  },
  {
   "cell_type": "code",
   "execution_count": 11,
   "id": "5bfab8cb",
   "metadata": {},
   "outputs": [],
   "source": [
    "import time\n",
    "from selenium import webdriver\n",
    "from selenium.webdriver.common.by import By\n",
    "from selenium.webdriver.common.keys import Keys\n",
    "\n",
    "driver = webdriver.Chrome()\n",
    "\n",
    "path = \"https://artsandculture.google.com/partner/national-palace-museum-taiwan\"\n",
    "driver.get(path)\n",
    "\n",
    "driver.execute_script(\"window.scrollTo(0, document.body.scrollHeight)\")\n",
    "time.sleep(1)\n",
    "\n",
    "driver.execute_script(\"window.scrollTo(0,0)\")  # scroll to top\n",
    "time.sleep(1)\n",
    "\n",
    "driver.close()\n"
   ]
  },
  {
   "cell_type": "code",
   "execution_count": 42,
   "id": "82a080b0",
   "metadata": {},
   "outputs": [
    {
     "name": "stdout",
     "output_type": "stream",
     "text": [
      "[<selenium.webdriver.remote.webelement.WebElement (session=\"c3bebe76be64bb2958681681a4ca02d3\", element=\"5FFC40C2CF8AF9481EEBE9DAB10D7A0B_element_12\")>, <selenium.webdriver.remote.webelement.WebElement (session=\"c3bebe76be64bb2958681681a4ca02d3\", element=\"5FFC40C2CF8AF9481EEBE9DAB10D7A0B_element_13\")>, <selenium.webdriver.remote.webelement.WebElement (session=\"c3bebe76be64bb2958681681a4ca02d3\", element=\"5FFC40C2CF8AF9481EEBE9DAB10D7A0B_element_14\")>, <selenium.webdriver.remote.webelement.WebElement (session=\"c3bebe76be64bb2958681681a4ca02d3\", element=\"5FFC40C2CF8AF9481EEBE9DAB10D7A0B_element_15\")>, <selenium.webdriver.remote.webelement.WebElement (session=\"c3bebe76be64bb2958681681a4ca02d3\", element=\"5FFC40C2CF8AF9481EEBE9DAB10D7A0B_element_16\")>, <selenium.webdriver.remote.webelement.WebElement (session=\"c3bebe76be64bb2958681681a4ca02d3\", element=\"5FFC40C2CF8AF9481EEBE9DAB10D7A0B_element_17\")>, <selenium.webdriver.remote.webelement.WebElement (session=\"c3bebe76be64bb2958681681a4ca02d3\", element=\"5FFC40C2CF8AF9481EEBE9DAB10D7A0B_element_18\")>, <selenium.webdriver.remote.webelement.WebElement (session=\"c3bebe76be64bb2958681681a4ca02d3\", element=\"5FFC40C2CF8AF9481EEBE9DAB10D7A0B_element_19\")>, <selenium.webdriver.remote.webelement.WebElement (session=\"c3bebe76be64bb2958681681a4ca02d3\", element=\"5FFC40C2CF8AF9481EEBE9DAB10D7A0B_element_20\")>, <selenium.webdriver.remote.webelement.WebElement (session=\"c3bebe76be64bb2958681681a4ca02d3\", element=\"5FFC40C2CF8AF9481EEBE9DAB10D7A0B_element_21\")>, <selenium.webdriver.remote.webelement.WebElement (session=\"c3bebe76be64bb2958681681a4ca02d3\", element=\"5FFC40C2CF8AF9481EEBE9DAB10D7A0B_element_22\")>, <selenium.webdriver.remote.webelement.WebElement (session=\"c3bebe76be64bb2958681681a4ca02d3\", element=\"5FFC40C2CF8AF9481EEBE9DAB10D7A0B_element_23\")>, <selenium.webdriver.remote.webelement.WebElement (session=\"c3bebe76be64bb2958681681a4ca02d3\", element=\"5FFC40C2CF8AF9481EEBE9DAB10D7A0B_element_24\")>, <selenium.webdriver.remote.webelement.WebElement (session=\"c3bebe76be64bb2958681681a4ca02d3\", element=\"5FFC40C2CF8AF9481EEBE9DAB10D7A0B_element_25\")>, <selenium.webdriver.remote.webelement.WebElement (session=\"c3bebe76be64bb2958681681a4ca02d3\", element=\"5FFC40C2CF8AF9481EEBE9DAB10D7A0B_element_26\")>, <selenium.webdriver.remote.webelement.WebElement (session=\"c3bebe76be64bb2958681681a4ca02d3\", element=\"5FFC40C2CF8AF9481EEBE9DAB10D7A0B_element_27\")>, <selenium.webdriver.remote.webelement.WebElement (session=\"c3bebe76be64bb2958681681a4ca02d3\", element=\"5FFC40C2CF8AF9481EEBE9DAB10D7A0B_element_28\")>, <selenium.webdriver.remote.webelement.WebElement (session=\"c3bebe76be64bb2958681681a4ca02d3\", element=\"5FFC40C2CF8AF9481EEBE9DAB10D7A0B_element_29\")>, <selenium.webdriver.remote.webelement.WebElement (session=\"c3bebe76be64bb2958681681a4ca02d3\", element=\"5FFC40C2CF8AF9481EEBE9DAB10D7A0B_element_30\")>, <selenium.webdriver.remote.webelement.WebElement (session=\"c3bebe76be64bb2958681681a4ca02d3\", element=\"5FFC40C2CF8AF9481EEBE9DAB10D7A0B_element_31\")>, <selenium.webdriver.remote.webelement.WebElement (session=\"c3bebe76be64bb2958681681a4ca02d3\", element=\"5FFC40C2CF8AF9481EEBE9DAB10D7A0B_element_32\")>, <selenium.webdriver.remote.webelement.WebElement (session=\"c3bebe76be64bb2958681681a4ca02d3\", element=\"5FFC40C2CF8AF9481EEBE9DAB10D7A0B_element_33\")>, <selenium.webdriver.remote.webelement.WebElement (session=\"c3bebe76be64bb2958681681a4ca02d3\", element=\"5FFC40C2CF8AF9481EEBE9DAB10D7A0B_element_34\")>, <selenium.webdriver.remote.webelement.WebElement (session=\"c3bebe76be64bb2958681681a4ca02d3\", element=\"5FFC40C2CF8AF9481EEBE9DAB10D7A0B_element_35\")>, <selenium.webdriver.remote.webelement.WebElement (session=\"c3bebe76be64bb2958681681a4ca02d3\", element=\"5FFC40C2CF8AF9481EEBE9DAB10D7A0B_element_36\")>, <selenium.webdriver.remote.webelement.WebElement (session=\"c3bebe76be64bb2958681681a4ca02d3\", element=\"5FFC40C2CF8AF9481EEBE9DAB10D7A0B_element_37\")>]\n",
      "26\n",
      "tag_name\n",
      "text\n",
      "click\n",
      "submit\n",
      "clear\n",
      "get_property\n",
      "get_dom_attribute\n",
      "get_attribute\n",
      "is_selected\n",
      "is_enabled\n",
      "send_keys\n",
      "shadow_root\n",
      "is_displayed\n",
      "location_once_scrolled_into_view\n",
      "size\n",
      "value_of_css_property\n",
      "location\n",
      "rect\n",
      "aria_role\n",
      "accessible_name\n",
      "screenshot_as_base64\n",
      "screenshot_as_png\n",
      "screenshot\n",
      "parent\n",
      "id\n",
      "find_element\n",
      "find_elements\n"
     ]
    },
    {
     "name": "stderr",
     "output_type": "stream",
     "text": [
      "/home/jialong/.pyenv/versions/3.11.4/lib/python3.11/site-packages/selenium/webdriver/remote/webelement.py:343: UserWarning: name used for saved screenshot does not match file type. It should end with a `.png` extension\n",
      "  warnings.warn(\n"
     ]
    }
   ],
   "source": [
    "import time\n",
    "import os\n",
    "from selenium import webdriver\n",
    "from selenium.webdriver.common.by import By\n",
    "from selenium.webdriver.common.keys import Keys\n",
    "\n",
    "driver = webdriver.Chrome()\n",
    "\n",
    "folder_path = './screenshot'\n",
    "path = \"https://artsandculture.google.com/partner/national-palace-museum-taiwan\"\n",
    "driver.get(path)\n",
    "\n",
    "\n",
    "items = driver.find_elements(By.CLASS_NAME, \"mRtnL.PJLMUc\")\n",
    "\n",
    "print(items)\n",
    "print(len(items))\n",
    "for i in items[0].__dir__():\n",
    "    if(i[0] == '_'): continue\n",
    "    print(i)    \n",
    "\n",
    "if(not os.path.isdir(folder_path)):\n",
    "    os.mkdir(folder_path)\n",
    "\n",
    "for index, item in enumerate(items):\n",
    "    item.screenshot(f'{folder_path}/img{index}.jpg')\n",
    "    # print(item.id)\n",
    "    \n",
    "driver.close()\n"
   ]
  },
  {
   "cell_type": "code",
   "execution_count": 51,
   "id": "094e1f06",
   "metadata": {},
   "outputs": [],
   "source": [
    "import time\n",
    "import os\n",
    "from selenium import webdriver\n",
    "from selenium.webdriver.common.by import By\n",
    "from selenium.webdriver.common.keys import Keys\n",
    "\n",
    "driver = webdriver.Chrome() \n",
    "\n",
    "folder_path = './screenshot'\n",
    "path = \"https://artsandculture.google.com/partner/national-palace-museum-taiwan\"\n",
    "driver.get(path)\n",
    "\n",
    "items = driver.find_elements(By.XPATH,'//*[@class=\"wcg9yf\"]//div[@class=\"vyQv6\"]/a')\n",
    "\n",
    "if(not os.path.isdir(folder_path)):\n",
    "    os.mkdir(folder_path)\n",
    "\n",
    "for index, item in enumerate(items):\n",
    "    item.screenshot(f'{folder_path}/img{index}.png')\n",
    "    # print(item.id)\n",
    "    \n",
    "driver.close()\n"
   ]
  },
  {
   "cell_type": "code",
   "execution_count": 83,
   "id": "9a265405",
   "metadata": {},
   "outputs": [
    {
     "name": "stdout",
     "output_type": "stream",
     "text": [
      "Vincent Willem van Gogh was a Dutch Post-Impressionist painter who posthumously became one of the most famous and influential figures in Western art history. In a decade, he created about 2,100 artworks, including around 860 oil paintings, most of which date from the last two years of his life. They include landscapes, still lifes, portraits and self-portraits, and are characterised by bold colours and dramatic, impulsive and expressive brushwork that contributed to the foundations of modern art. Not commercially successful, he struggled with severe depression and poverty, eventually leading to his suicide at age thirty-seven.\n",
      "Born into an upper-middle-class family, Van Gogh drew as a child and was serious, quiet, and thoughtful. As a young man, he worked as an art dealer, often traveling, but became depressed after he was transferred to London. He turned to religion and spent time as a Protestant missionary in southern Belgium. He drifted in ill health and solitude before taking up painting in 1881, having moved back home with his parents. His younger brother Theo supported him financially, and the two kept a long correspondence by letter.\n"
     ]
    }
   ],
   "source": [
    "import time\n",
    "import os\n",
    "from selenium import webdriver\n",
    "from selenium.webdriver.common.by import By\n",
    "from selenium.webdriver.common.keys import Keys\n",
    "\n",
    "driver = webdriver.Chrome() \n",
    "\n",
    "path = \"https://artsandculture.google.com/partner/national-palace-museum-taiwan\"\n",
    "search_xpath = '/html/body/div[2]/div[1]/div[3]/div[2]'\n",
    "input_class= 'GmJoc'\n",
    "item_css_selector= '#yDmH0d > div.t3Pwhc.uFenQ > div > div > section.STehH.cv0WEf > div.dxztSe > div.z1JkWd.NJ4rnc > span > div:nth-child(1) > a'\n",
    "p_css_selector = '#yDmH0d > div.Noqx5.uFenQ > div > div:nth-child(1) > div > div.zzySAd.gI3F8b'\n",
    "sleep_time = 0.1\n",
    "\n",
    "driver.get(path)\n",
    "\n",
    "driver.find_element(By.XPATH, search_xpath).click()\n",
    "time.sleep(sleep_time)\n",
    "\n",
    "driver.find_element(By.CLASS_NAME, input_class).send_keys('Van Gogh')\n",
    "time.sleep(sleep_time)\n",
    "\n",
    "driver.find_element(By.CLASS_NAME, input_class).send_keys(Keys.ENTER)\n",
    "time.sleep(sleep_time)\n",
    "\n",
    "driver.find_element(By.CSS_SELECTOR, item_css_selector).click()\n",
    "time.sleep(sleep_time)\n",
    "\n",
    "p = driver.find_element(By.CSS_SELECTOR, p_css_selector)\n",
    "print(p.text)\n",
    "\n",
    "time.sleep(5)\n",
    "\n",
    "driver.close()\n",
    "\n"
   ]
  },
  {
   "cell_type": "code",
   "execution_count": null,
   "id": "35debe93-974a-4b37-b5b6-b3f4bd9cf632",
   "metadata": {},
   "outputs": [],
   "source": []
  }
 ],
 "metadata": {
  "kernelspec": {
   "display_name": "Python 3 (ipykernel)",
   "language": "python",
   "name": "python3"
  },
  "language_info": {
   "codemirror_mode": {
    "name": "ipython",
    "version": 3
   },
   "file_extension": ".py",
   "mimetype": "text/x-python",
   "name": "python",
   "nbconvert_exporter": "python",
   "pygments_lexer": "ipython3",
   "version": "3.11.4"
  }
 },
 "nbformat": 4,
 "nbformat_minor": 5
}
